{
 "cells": [
  {
   "cell_type": "code",
   "execution_count": 1,
   "id": "a2f86f2c-38dc-462c-9479-10ace1a94902",
   "metadata": {},
   "outputs": [],
   "source": [
    "# % matplotlib inline\n",
    "import torch\n",
    "import torchvision\n",
    "from torch import nn\n",
    "from torch.nn import functional as F\n",
    "import matplotlib.pyplot as plt\n",
    "import cv2\n",
    "import numpy as np\n",
    "from torchinfo import summary\n",
    "from torch.utils.data import DataLoader\n",
    "import time"
   ]
  },
  {
   "cell_type": "code",
   "execution_count": 2,
   "id": "88779f2f-4fb4-4196-b971-7359b8d71971",
   "metadata": {},
   "outputs": [],
   "source": [
    "import os\n",
    "\n",
    "class CustomImageDataset(torch.utils.data.Dataset):\n",
    "    def __init__(self, base_dir, transform=None, target_transform=None):\n",
    "        self.transform = torchvision.transforms.Normalize(\n",
    "            mean=[0.485, 0.456, 0.406], std=[0.229, 0.224, 0.225])\n",
    "        self.fname_list = None\n",
    "        self.base_dir = base_dir\n",
    "        self.target_transform = target_transform\n",
    "        self.create_fname_list()\n",
    "        self.img_labels = self.fname_list\n",
    "\n",
    "    def create_fname_list(self):\n",
    "        self.fname_list = os.listdir(os.path.join(self.base_dir, 'image'))\n",
    "        self.fname_list = list(filter(lambda x: x.find(\"tif\") != -1, self.fname_list))\n",
    "\n",
    "    def normalize_image(self, img):\n",
    "        return self.transform(img.float() / 255)\n",
    "\n",
    "    def __len__(self):\n",
    "        return len(self.img_labels)\n",
    "\n",
    "    def __getitem__(self, idx):\n",
    "        # TODO: refactor\n",
    "        img_path = os.path.join(self.base_dir, 'image', self.fname_list[idx])\n",
    "        image = plt.imread(img_path)\n",
    "        p2 = np.array(np.zeros((3, 256, 256)))\n",
    "        p2[0, ...] = image[..., 0]\n",
    "        p2[1, ...] = image[..., 1]\n",
    "        p2[2, ...] = image[..., 2]\n",
    "        label_path = os.path.join(self.base_dir, 'label', self.fname_list[idx])\n",
    "        image_label = plt.imread(label_path)\n",
    "        label = np.divide(image_label[..., 0], 255).astype(int)\n",
    "        lab = np.array(np.zeros((1, 256, 256)))\n",
    "        lab[0, :, :] = label\n",
    "        tor = torch.from_numpy(p2)\n",
    "        feature = self.normalize_image(tor)\n",
    "\n",
    "        return feature, torch.from_numpy(lab).float()\n",
    "\n"
   ]
  },
  {
   "cell_type": "code",
   "execution_count": 3,
   "id": "4a78f03a-3670-45e6-bb6c-4b489494f8cd",
   "metadata": {},
   "outputs": [],
   "source": [
    "def get_model():\n",
    "    model = torchvision.models.segmentation.fcn_resnet50(True)\n",
    "    model.classifier[4] = nn.Conv2d(512, 1, kernel_size=(1, 1), stride=(1, 1))\n",
    "    model.aux_classifier[4] = nn.Conv2d(256, 1, kernel_size=(1, 1), stride=(1, 1))\n",
    "    return model"
   ]
  },
  {
   "cell_type": "code",
   "execution_count": 4,
   "id": "6bbb1ffc-9dc2-4505-a5b1-1d9fda5b75df",
   "metadata": {},
   "outputs": [
    {
     "data": {
      "text/plain": [
       "===============================================================================================\n",
       "Layer (type:depth-idx)                        Output Shape              Param #\n",
       "===============================================================================================\n",
       "FCN                                           [5, 1, 256, 256]          --\n",
       "├─IntermediateLayerGetter: 1-1                [5, 2048, 32, 32]         --\n",
       "│    └─Conv2d: 2-1                            [5, 64, 128, 128]         9,408\n",
       "│    └─BatchNorm2d: 2-2                       [5, 64, 128, 128]         128\n",
       "│    └─ReLU: 2-3                              [5, 64, 128, 128]         --\n",
       "│    └─MaxPool2d: 2-4                         [5, 64, 64, 64]           --\n",
       "│    └─Sequential: 2-5                        [5, 256, 64, 64]          --\n",
       "│    │    └─Bottleneck: 3-1                   [5, 256, 64, 64]          75,008\n",
       "│    │    └─Bottleneck: 3-2                   [5, 256, 64, 64]          70,400\n",
       "│    │    └─Bottleneck: 3-3                   [5, 256, 64, 64]          70,400\n",
       "│    └─Sequential: 2-6                        [5, 512, 32, 32]          --\n",
       "│    │    └─Bottleneck: 3-4                   [5, 512, 32, 32]          379,392\n",
       "│    │    └─Bottleneck: 3-5                   [5, 512, 32, 32]          280,064\n",
       "│    │    └─Bottleneck: 3-6                   [5, 512, 32, 32]          280,064\n",
       "│    │    └─Bottleneck: 3-7                   [5, 512, 32, 32]          280,064\n",
       "│    └─Sequential: 2-7                        [5, 1024, 32, 32]         --\n",
       "│    │    └─Bottleneck: 3-8                   [5, 1024, 32, 32]         1,512,448\n",
       "│    │    └─Bottleneck: 3-9                   [5, 1024, 32, 32]         1,117,184\n",
       "│    │    └─Bottleneck: 3-10                  [5, 1024, 32, 32]         1,117,184\n",
       "│    │    └─Bottleneck: 3-11                  [5, 1024, 32, 32]         1,117,184\n",
       "│    │    └─Bottleneck: 3-12                  [5, 1024, 32, 32]         1,117,184\n",
       "│    │    └─Bottleneck: 3-13                  [5, 1024, 32, 32]         1,117,184\n",
       "│    └─Sequential: 2-8                        [5, 2048, 32, 32]         --\n",
       "│    │    └─Bottleneck: 3-14                  [5, 2048, 32, 32]         6,039,552\n",
       "│    │    └─Bottleneck: 3-15                  [5, 2048, 32, 32]         4,462,592\n",
       "│    │    └─Bottleneck: 3-16                  [5, 2048, 32, 32]         4,462,592\n",
       "├─FCNHead: 1-2                                [5, 1, 32, 32]            --\n",
       "│    └─Conv2d: 2-9                            [5, 512, 32, 32]          9,437,184\n",
       "│    └─BatchNorm2d: 2-10                      [5, 512, 32, 32]          1,024\n",
       "│    └─ReLU: 2-11                             [5, 512, 32, 32]          --\n",
       "│    └─Dropout: 2-12                          [5, 512, 32, 32]          --\n",
       "│    └─Conv2d: 2-13                           [5, 1, 32, 32]            513\n",
       "├─FCNHead: 1-3                                [5, 1, 32, 32]            --\n",
       "│    └─Conv2d: 2-14                           [5, 256, 32, 32]          2,359,296\n",
       "│    └─BatchNorm2d: 2-15                      [5, 256, 32, 32]          512\n",
       "│    └─ReLU: 2-16                             [5, 256, 32, 32]          --\n",
       "│    └─Dropout: 2-17                          [5, 256, 32, 32]          --\n",
       "│    └─Conv2d: 2-18                           [5, 1, 32, 32]            257\n",
       "===============================================================================================\n",
       "Total params: 35,306,818\n",
       "Trainable params: 35,306,818\n",
       "Non-trainable params: 0\n",
       "Total mult-adds (G): 184.99\n",
       "===============================================================================================\n",
       "Input size (MB): 3.93\n",
       "Forward/backward pass size (MB): 2694.92\n",
       "Params size (MB): 141.23\n",
       "Estimated Total Size (MB): 2840.08\n",
       "==============================================================================================="
      ]
     },
     "execution_count": 4,
     "metadata": {},
     "output_type": "execute_result"
    }
   ],
   "source": [
    "model = get_model()\n",
    "device = torch.device(f'cuda:{0}')\n",
    "model.to(device)\n",
    "optimizer = torch.optim.AdamW(model.parameters(),\n",
    "                              lr=1e-4, weight_decay=1e-3)\n",
    "summary(model=model, input_size=(5, 3, 256, 256))"
   ]
  },
  {
   "cell_type": "code",
   "execution_count": 5,
   "id": "bb04daae-7a98-4676-8466-06289d5d8077",
   "metadata": {},
   "outputs": [],
   "source": [
    "### Table for results\n",
    "header = r'''\n",
    "        Train | Valid\n",
    "Epoch |  Loss |  Loss | Time, m\n",
    "'''\n",
    "#          Epoch         metrics            time\n",
    "raw_line = '{:6d}' + '\\u2502{:7.3f}'*2 + '\\u2502{:6.2f}'"
   ]
  },
  {
   "cell_type": "code",
   "execution_count": 6,
   "id": "5c7fc95e-9594-4e0b-8c42-91c64f52e13e",
   "metadata": {},
   "outputs": [],
   "source": [
    "\n",
    "batch_size = 32\n",
    "my_data_set_test = DataLoader(CustomImageDataset('images/segmentation/test'), batch_size, num_workers=4)\n",
    "my_data_set_train = DataLoader(CustomImageDataset('images/segmentation/train'), batch_size, num_workers=4)"
   ]
  },
  {
   "cell_type": "code",
   "execution_count": 7,
   "id": "f235bfc5-6d83-4bc4-9e64-8337d0a5bebb",
   "metadata": {},
   "outputs": [],
   "source": [
    "@torch.no_grad()\n",
    "def validation(model, loader, loss_fn):\n",
    "    losses = []\n",
    "    model.eval()\n",
    "    for image, target in loader:\n",
    "        image, target = image.to(device), target.float().to(device)\n",
    "        output = model(image)['out']\n",
    "        loss = loss_fn(output, target)\n",
    "        losses.append(loss.item())\n",
    "        \n",
    "    return np.array(losses).mean()"
   ]
  },
  {
   "cell_type": "code",
   "execution_count": 8,
   "id": "75adfcef-c858-40c0-820f-67589d2c594a",
   "metadata": {},
   "outputs": [
    {
     "name": "stdout",
     "output_type": "stream",
     "text": [
      "\n",
      "        Train | Valid\n",
      "Epoch |  Loss |  Loss | Time, m\n",
      "\n",
      "     1│  0.393│  0.416│  0.54\n",
      "     2│  0.228│  0.179│  0.52\n",
      "     3│  0.177│  0.147│  0.52\n",
      "     4│  0.141│  0.127│  0.53\n",
      "     5│  0.118│  0.108│  0.53\n",
      "     6│  0.102│  0.099│  0.52\n",
      "     7│  0.090│  0.093│  0.53\n",
      "     8│  0.080│  0.087│  0.53\n",
      "     9│  0.074│  0.084│  0.53\n",
      "    10│  0.069│  0.082│  0.53\n",
      "    11│  0.065│  0.092│  0.53\n",
      "    12│  0.063│  0.085│  0.52\n",
      "    13│  0.058│  0.078│  0.53\n",
      "    14│  0.055│  0.073│  0.52\n",
      "    15│  0.051│  0.072│  0.52\n",
      "    16│  0.049│  0.071│  0.52\n",
      "    17│  0.047│  0.072│  0.53\n",
      "    18│  0.044│  0.078│  0.53\n",
      "    19│  0.042│  0.073│  0.52\n",
      "    20│  0.040│  0.072│  0.52\n"
     ]
    }
   ],
   "source": [
    "bce_fn = nn.BCEWithLogitsLoss()\n",
    "\n",
    "print(header)\n",
    "EPOCHES = 20\n",
    "\n",
    "for epoch in range(1, EPOCHES + 1):\n",
    "    losses = []\n",
    "    start_time = time.time()\n",
    "    model.train()\n",
    "    for image, target in my_data_set_train:\n",
    "        image, target = image.to(device), target.float().to(device)\n",
    "        optimizer.zero_grad()\n",
    "        output = model(image)['out']\n",
    "        loss = bce_fn(output, target)\n",
    "        loss.backward()\n",
    "        optimizer.step()\n",
    "        losses.append(loss.item())\n",
    "    vloss = validation(model, my_data_set_test, bce_fn)\n",
    "    print(raw_line.format(epoch, np.array(losses).mean(), vloss,\n",
    "                              (time.time()-start_time)/60**1))\n",
    "    losses = []"
   ]
  },
  {
   "cell_type": "code",
   "execution_count": 9,
   "id": "f9ff3aec-6204-4c2d-aa2a-3e9f895667c1",
   "metadata": {},
   "outputs": [],
   "source": [
    "torch.save(model.state_dict(), \"segmentationtest.pt\")"
   ]
  },
  {
   "cell_type": "code",
   "execution_count": 10,
   "id": "e93da4a0-922c-4889-8e56-5c83a817b5d2",
   "metadata": {},
   "outputs": [],
   "source": [
    "my_data_set_test = DataLoader(CustomImageDataset('images/segmentation/test'), batch_size, num_workers=4)\n",
    "my_data_set_train = DataLoader(CustomImageDataset('images/segmentation/train'), batch_size, num_workers=4)"
   ]
  },
  {
   "cell_type": "code",
   "execution_count": 25,
   "id": "9654edc0-92d4-440e-beb4-614c078d01ce",
   "metadata": {},
   "outputs": [],
   "source": [
    "train_iter = my_data_set_train.__iter__()\n",
    "test_iter = my_data_set_test.__iter__()"
   ]
  },
  {
   "cell_type": "code",
   "execution_count": 26,
   "id": "f4d29db4-9639-443f-b15e-1fcac536bd0c",
   "metadata": {},
   "outputs": [],
   "source": [
    "itrain, ltrain = next(train_iter)\n",
    "itest, ltest = next(test_iter)"
   ]
  },
  {
   "cell_type": "code",
   "execution_count": 33,
   "id": "92d9ec95-f539-44e5-bae7-c212b1e8ca85",
   "metadata": {},
   "outputs": [
    {
     "data": {
      "text/plain": [
       "<matplotlib.image.AxesImage at 0x7f1d4c76c520>"
      ]
     },
     "execution_count": 33,
     "metadata": {},
     "output_type": "execute_result"
    },
    {
     "data": {
      "image/png": "[encoded data removed]",
      "text/plain": [
       "<Figure size 432x288 with 4 Axes>"
      ]
     },
     "metadata": {
      "needs_background": "light"
     },
     "output_type": "display_data"
    }
   ],
   "source": [
    "plt.subplot(2, 2, 1)\n",
    "plt.imshow(ltrain[0][0], cmap=\"Greys\")\n",
    "plt.subplot(2, 2, 2)\n",
    "plt.imshow(ltrain[1][0], cmap=\"Greys\")\n",
    "plt.subplot(2, 2, 3)\n",
    "plt.imshow(ltest[0][0], cmap=\"Greys\")\n",
    "plt.subplot(2, 2, 4)\n",
    "plt.imshow(ltest[1][0], cmap=\"Greys\")"
   ]
  },
  {
   "cell_type": "code",
   "execution_count": 34,
   "id": "d5ec2162-7c44-4cd4-832b-bc5b049b83b3",
   "metadata": {},
   "outputs": [
    {
     "data": {
      "text/plain": [
       "<matplotlib.image.AxesImage at 0x7f1d4c5da760>"
      ]
     },
     "execution_count": 34,
     "metadata": {},
     "output_type": "execute_result"
    },
    {
     "data": {
      "image/png": "[encoded data removed]",
      "text/plain": [
       "<Figure size 432x288 with 4 Axes>"
      ]
     },
     "metadata": {
      "needs_background": "light"
     },
     "output_type": "display_data"
    }
   ],
   "source": [
    "plt.subplot(2, 2, 1)\n",
    "plt.imshow(np.array(model(itrain.to(device))['out'].cpu().detach().numpy())[0][0], cmap=\"Greys\")\n",
    "plt.subplot(2, 2, 2)\n",
    "plt.imshow(np.array(model(itrain.to(device))['out'].cpu().detach().numpy())[1][0], cmap=\"Greys\")\n",
    "plt.subplot(2, 2, 3)\n",
    "plt.imshow(np.array(model(itest.to(device))['out'].cpu().detach().numpy())[0][0], cmap=\"Greys\")\n",
    "plt.subplot(2, 2, 4)\n",
    "plt.imshow(np.array(model(itest.to(device))['out'].cpu().detach().numpy())[1][0], cmap=\"Greys\")"
   ]
  },
  {
   "cell_type": "code",
   "execution_count": null,
   "id": "5956f075-e368-4089-9d06-f78d69433b06",
   "metadata": {},
   "outputs": [],
   "source": []
  },
  {
   "cell_type": "code",
   "execution_count": null,
   "id": "b3868cab-6a65-4013-a4f9-2049a902c9b8",
   "metadata": {},
   "outputs": [],
   "source": []
  }
 ],
 "metadata": {
  "kernelspec": {
   "display_name": "Python 3 (ipykernel)",
   "language": "python",
   "name": "python3"
  },
  "language_info": {
   "codemirror_mode": {
    "name": "ipython",
    "version": 3
   },
   "file_extension": ".py",
   "mimetype": "text/x-python",
   "name": "python",
   "nbconvert_exporter": "python",
   "pygments_lexer": "ipython3",
   "version": "3.9.7"
  }
 },
 "nbformat": 4,
 "nbformat_minor": 5
}
