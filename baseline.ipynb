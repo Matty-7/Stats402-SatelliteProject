{
 "cells": [
  {
   "cell_type": "code",
   "execution_count": 1,
   "id": "f4d52382-74a3-49f1-a824-ff8a6b6aba5c",
   "metadata": {},
   "outputs": [],
   "source": [
    "from __future__ import print_function\n",
    "import argparse, random, copy\n",
    "import numpy as np\n",
    "\n",
    "import torch\n",
    "import torch.nn as nn\n",
    "import torch.nn.functional as F\n",
    "import torch.optim as optim\n",
    "import torchvision\n",
    "from matplotlib import pyplot as plt\n",
    "from torch.utils.data import Dataset\n",
    "from torchvision import datasets\n",
    "from torchvision import transforms as T\n",
    "from torch.optim.lr_scheduler import StepLR"
   ]
  },
  {
   "cell_type": "code",
   "execution_count": 2,
   "id": "5327c469-a797-41c1-9248-e1baa642216a",
   "metadata": {},
   "outputs": [],
   "source": [
    "import baseline"
   ]
  },
  {
   "cell_type": "code",
   "execution_count": 3,
   "id": "cf7bea9b-4d73-4592-b7f1-ce23eafbdabd",
   "metadata": {},
   "outputs": [],
   "source": [
    "import os\n",
    "\n",
    "class CustomImageDataset(torch.utils.data.Dataset):\n",
    "    def __init__(self, base_dir, transform=None, target_transform=None):\n",
    "        self.transform = torchvision.transforms.Normalize(\n",
    "            mean=[0.485, 0.456, 0.406], std=[0.229, 0.224, 0.225])\n",
    "        self.fname_list = None\n",
    "        self.base_dir = base_dir\n",
    "        self.target_transform = target_transform\n",
    "        self.create_fname_list()\n",
    "        self.img_labels = self.fname_list\n",
    "\n",
    "    def create_fname_list(self):\n",
    "        self.fname_list = os.listdir(os.path.join(self.base_dir, '2012'))\n",
    "        self.fname_list = list(filter(lambda x: x.find(\"jpg\") != -1, self.fname_list))\n",
    "        self.fname_list = list(map(lambda x: x[5: ], self.fname_list))\n",
    "\n",
    "    def normalize_image(self, img):\n",
    "        return self.transform(img.float() / 255)\n",
    "\n",
    "    def __len__(self):\n",
    "        return len(self.img_labels)\n",
    "\n",
    "    def __getitem__(self, idx):\n",
    "        # TODO: refactor\n",
    "        img_path = os.path.join(self.base_dir, '2012', '2012_' + self.fname_list[idx])\n",
    "        img_path2 = os.path.join(self.base_dir, '2016', '2016_' + self.fname_list[idx])\n",
    "        image = plt.imread(img_path)\n",
    "        image2 = plt.imread(img_path2)\n",
    "        p2 = np.array(np.zeros((3, 256, 256)))\n",
    "        p2[0, ...] = image[..., 0]\n",
    "        p2[1, ...] = image[..., 1]\n",
    "        p2[2, ...] = image[..., 2]\n",
    "        p3 = np.array(np.zeros((3, 256, 256)))\n",
    "        p3[0, ...] = image2[..., 0]\n",
    "        p3[1, ...] = image2[..., 1]\n",
    "        p3[2, ...] = image2[..., 2]\n",
    "        label_path = os.path.join(self.base_dir, 'label', 'label_' + self.fname_list[idx])\n",
    "        image_label = plt.imread(label_path)\n",
    "        label = np.divide(image_label[..., 0], 255).astype(int)\n",
    "        # lab = np.array(np.zeros((1, 256, 256)))\n",
    "        # lab[0, :, :] = label\n",
    "        tor = torch.from_numpy(p2)\n",
    "        tor2 = torch.from_numpy(p3)\n",
    "        feature = self.normalize_image(tor)\n",
    "        feature2 = self.normalize_image(tor2)\n",
    "        print(img_path)\n",
    "\n",
    "        return feature, feature2, torch.from_numpy(label).float()"
   ]
  },
  {
   "cell_type": "code",
   "execution_count": 4,
   "id": "3da9e17d-625f-46a7-bc50-19e8e9c39fde",
   "metadata": {},
   "outputs": [],
   "source": [
    "def train(args, model, device, train_loader, optimizer, epoch):\n",
    "    model.train()\n",
    "\n",
    "    # we aren't using `TripletLoss` as the MNIST dataset is simple, so `BCELoss` can do the trick.\n",
    "    criterion = nn.BCELoss()\n",
    "\n",
    "    for batch_idx, (images_1, images_2, targets) in enumerate(train_loader):\n",
    "        images_1, images_2, targets = images_1.to(device), images_2.to(device), targets.to(device)\n",
    "        optimizer.zero_grad()\n",
    "        outputs = model(images_1, images_2).squeeze()\n",
    "        loss = criterion(outputs, targets)\n",
    "        loss.backward()\n",
    "        optimizer.step()\n",
    "        if batch_idx % args.log_interval == 0:\n",
    "            print('Train Epoch: {} [{}/{} ({:.0f}%)]\\tLoss: {:.6f}'.format(\n",
    "                epoch, batch_idx * len(images_1), len(train_loader.dataset),\n",
    "                       100. * batch_idx / len(train_loader), loss.item()))\n",
    "            if args.dry_run:\n",
    "                break\n",
    "\n",
    "\n",
    "def test(model, device, test_loader):\n",
    "    model.eval()\n",
    "    test_loss = 0\n",
    "    correct = 0\n",
    "\n",
    "    # we aren't using `TripletLoss` as the MNIST dataset is simple, so `BCELoss` can do the trick.\n",
    "    criterion = nn.BCELoss()\n",
    "\n",
    "    with torch.no_grad():\n",
    "        for (images_1, images_2, targets) in test_loader:\n",
    "            images_1, images_2, targets = images_1.to(device), images_2.to(device), targets.to(device)\n",
    "            outputs = model(images_1, images_2).squeeze()\n",
    "            test_loss += criterion(outputs, targets).sum().item()  # sum up batch loss\n",
    "            pred = torch.where(outputs > 0.5, 1, 0)  # get the index of the max log-probability\n",
    "            correct += pred.eq(targets.view_as(pred)).sum().item()\n",
    "\n",
    "    test_loss /= len(test_loader.dataset)\n",
    "\n",
    "    # for the 1st epoch, the average loss is 0.0001 and the accuracy 97-98%\n",
    "    # using default settings. After completing the 10th epoch, the average\n",
    "    # loss is 0.0000 and the accuracy 99.5-100% using default settings.\n",
    "    print('\\nTest set: Average loss: {:.4f}, Accuracy: {}/{} ({:.0f}%)\\n'.format(\n",
    "        test_loss, correct, len(test_loader.dataset),\n",
    "        100. * correct / len(test_loader.dataset)))"
   ]
  },
  {
   "cell_type": "code",
   "execution_count": 5,
   "id": "e7e9598d-e27d-4725-bd16-bf0685abc2ce",
   "metadata": {},
   "outputs": [
    {
     "data": {
      "text/plain": [
       "<All keys matched successfully>"
      ]
     },
     "execution_count": 5,
     "metadata": {},
     "output_type": "execute_result"
    }
   ],
   "source": [
    "device = torch.device(\"cuda\")\n",
    "train_dataset = CustomImageDataset('images/largechange')\n",
    "train_kwargs = {'batch_size': 3}\n",
    "test_kwargs = {'batch_size': 1000}\n",
    "train_loader = torch.utils.data.DataLoader(train_dataset, **train_kwargs)\n",
    "\n",
    "model = baseline.SiameseNetwork().to(device)\n",
    "model.load_state_dict(torch.load('siamese_network0.pt'))"
   ]
  },
  {
   "cell_type": "code",
   "execution_count": 6,
   "id": "6db92963-ac15-40e7-85d1-4c8f135b190c",
   "metadata": {},
   "outputs": [],
   "source": [
    "loader = train_loader.__iter__()"
   ]
  },
  {
   "cell_type": "code",
   "execution_count": 14,
   "id": "e5d9402c-257a-4183-8c38-156fe1327427",
   "metadata": {},
   "outputs": [
    {
     "name": "stdout",
     "output_type": "stream",
     "text": [
      "images/largechange/2012/2012_6000_6743.jpg\n",
      "images/largechange/2012/2012_11000_17743.jpg\n",
      "images/largechange/2012/2012_1500_17243.jpg\n"
     ]
    }
   ],
   "source": [
    "im1, im2, tar = next(loader)"
   ]
  },
  {
   "cell_type": "code",
   "execution_count": 15,
   "id": "6a02a197-399c-4154-ac82-16e56da57e05",
   "metadata": {},
   "outputs": [
    {
     "data": {
      "text/plain": [
       "tensor([[0., 0., 0.,  ..., 0., 0., 0.],\n",
       "        [0., 0., 0.,  ..., 0., 0., 0.],\n",
       "        [0., 0., 0.,  ..., 0., 0., 0.],\n",
       "        ...,\n",
       "        [0., 0., 0.,  ..., 0., 0., 0.],\n",
       "        [0., 0., 0.,  ..., 0., 0., 0.],\n",
       "        [0., 0., 0.,  ..., 0., 0., 0.]])"
      ]
     },
     "execution_count": 15,
     "metadata": {},
     "output_type": "execute_result"
    }
   ],
   "source": [
    "tar[0]"
   ]
  },
  {
   "cell_type": "code",
   "execution_count": 16,
   "id": "ecb3c844-a036-4b2a-a4bc-cc216849dc7a",
   "metadata": {},
   "outputs": [
    {
     "data": {
      "text/plain": [
       "torch.Size([256, 256])"
      ]
     },
     "execution_count": 16,
     "metadata": {},
     "output_type": "execute_result"
    }
   ],
   "source": [
    "im1[0][0].shape"
   ]
  },
  {
   "cell_type": "code",
   "execution_count": 25,
   "id": "e77f31b5-a52b-46b3-af83-103cf98f5366",
   "metadata": {},
   "outputs": [
    {
     "name": "stdout",
     "output_type": "stream",
     "text": [
      "images/largechange/2012/2012_14500_18243.jpg\n",
      "images/largechange/2012/2012_8000_20243.jpg\n",
      "images/largechange/2012/2012_4000_18743.jpg\n"
     ]
    }
   ],
   "source": [
    "im1, im2, tar = next(loader)"
   ]
  },
  {
   "cell_type": "code",
   "execution_count": 26,
   "id": "4f064cc1-dd87-4923-a1f8-8892e1e6c683",
   "metadata": {},
   "outputs": [
    {
     "data": {
      "text/plain": [
       "<matplotlib.image.AxesImage at 0x7f86ea99efa0>"
      ]
     },
     "execution_count": 26,
     "metadata": {},
     "output_type": "execute_result"
    },
    {
     "data": {
      "image/png": "[encoded data removed]",
      "text/plain": [
       "<Figure size 432x288 with 3 Axes>"
      ]
     },
     "metadata": {
      "needs_background": "light"
     },
     "output_type": "display_data"
    }
   ],
   "source": [
    "num = 2\n",
    "# plt.subplot(1, 3, 1)\n",
    "# narr = np.zeros((256, 256, 3))\n",
    "# narr[...,0] = im1[num, 0, ...]\n",
    "# narr[...,1] = im1[num, 1, ...]\n",
    "# narr[...,2] = im1[num, 2, ...]\n",
    "# plt.imshow(narr)\n",
    "# plt.subplot(1, 3, 2)\n",
    "# narr1 = np.zeros((256, 256, 3))\n",
    "# narr1[...,0] = im2[num, 0, ...]\n",
    "# narr1[...,1] = im2[num, 1, ...]\n",
    "# narr1[...,2] = im2[num, 2, ...]\n",
    "# plt.imshow(narr1)\n",
    "plt.subplot(1, 3, 1)\n",
    "plt.imshow(tar[0], cmap = 'Greys')\n",
    "plt.subplot(1, 3, 2)\n",
    "plt.imshow(tar[1], cmap = 'Greys')\n",
    "plt.subplot(1, 3, 3)\n",
    "plt.imshow(tar[num], cmap = 'Greys')\n"
   ]
  },
  {
   "cell_type": "code",
   "execution_count": 27,
   "id": "cbf9defb-7e07-4f27-8d92-c957aa06530f",
   "metadata": {},
   "outputs": [
    {
     "name": "stdout",
     "output_type": "stream",
     "text": [
      "torch.Size([3, 1, 256, 256])\n"
     ]
    }
   ],
   "source": [
    "# plt.imshow(tar[num])\n",
    "result = model(im1.to('cuda'), im2.to('cuda'))"
   ]
  },
  {
   "cell_type": "code",
   "execution_count": 28,
   "id": "cd4eb116-a664-4ddc-9493-c396b11f72af",
   "metadata": {
    "tags": []
   },
   "outputs": [
    {
     "data": {
      "text/plain": [
       "<matplotlib.image.AxesImage at 0x7f86ea8a08b0>"
      ]
     },
     "execution_count": 28,
     "metadata": {},
     "output_type": "execute_result"
    },
    {
     "data": {
      "image/png": "[encoded data removed]",
      "text/plain": [
       "<Figure size 432x288 with 3 Axes>"
      ]
     },
     "metadata": {
      "needs_background": "light"
     },
     "output_type": "display_data"
    }
   ],
   "source": [
    "plt.subplot(1, 3, 1)\n",
    "plt.imshow(result[0][0].cpu().detach().numpy(), cmap = 'Greys')\n",
    "plt.subplot(1, 3, 2)\n",
    "plt.imshow(result[1][0].cpu().detach().numpy(), cmap = 'Greys')\n",
    "plt.subplot(1, 3, 3)\n",
    "plt.imshow(result[num][0].cpu().detach().numpy(), cmap = 'Greys')"
   ]
  },
  {
   "cell_type": "code",
   "execution_count": 58,
   "id": "8edea4fe-87b8-4e06-8f28-9c76de9f23f3",
   "metadata": {},
   "outputs": [
    {
     "ename": "ModuleNotFoundError",
     "evalue": "No module named 'torchinfo'",
     "output_type": "error",
     "traceback": [
      "\u001b[0;31m---------------------------------------------------------------------------\u001b[0m",
      "\u001b[0;31mModuleNotFoundError\u001b[0m                       Traceback (most recent call last)",
      "\u001b[0;32m/tmp/ipykernel_1021/1357982964.py\u001b[0m in \u001b[0;36m<module>\u001b[0;34m\u001b[0m\n\u001b[0;32m----> 1\u001b[0;31m \u001b[0;32mfrom\u001b[0m \u001b[0mtorchinfo\u001b[0m \u001b[0;32mimport\u001b[0m \u001b[0msummary\u001b[0m\u001b[0;34m\u001b[0m\u001b[0;34m\u001b[0m\u001b[0m\n\u001b[0m",
      "\u001b[0;31mModuleNotFoundError\u001b[0m: No module named 'torchinfo'"
     ]
    }
   ],
   "source": [
    "from torchinfo import summary"
   ]
  },
  {
   "cell_type": "code",
   "execution_count": null,
   "id": "06276dc3-8510-4303-b220-6664b71a2fb8",
   "metadata": {},
   "outputs": [],
   "source": [
    "summary(model, [(1, 3, 256, 256), (1, 3, 256, 256)])\n"
   ]
  },
  {
   "cell_type": "code",
   "execution_count": null,
   "id": "db304448-4ab2-4bcf-a194-15011198d963",
   "metadata": {},
   "outputs": [],
   "source": []
  },
  {
   "cell_type": "code",
   "execution_count": null,
   "id": "447eaa9a-f001-483c-8db0-389b1d797266",
   "metadata": {},
   "outputs": [],
   "source": []
  }
 ],
 "metadata": {
  "kernelspec": {
   "display_name": "Python 3 (ipykernel)",
   "language": "python",
   "name": "python3"
  },
  "language_info": {
   "codemirror_mode": {
    "name": "ipython",
    "version": 3
   },
   "file_extension": ".py",
   "mimetype": "text/x-python",
   "name": "python",
   "nbconvert_exporter": "python",
   "pygments_lexer": "ipython3",
   "version": "3.9.7"
  }
 },
 "nbformat": 4,
 "nbformat_minor": 5
}
